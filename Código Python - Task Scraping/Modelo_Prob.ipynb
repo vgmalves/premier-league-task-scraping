{
 "cells": [
  {
   "cell_type": "code",
   "execution_count": 6,
   "id": "b0161a20-0c2c-429c-90f4-4f39206adb73",
   "metadata": {},
   "outputs": [
    {
     "name": "stdout",
     "output_type": "stream",
     "text": [
      "Probabilidade de vitória do Time A: 0.7863285\n",
      "Probabilidade de empate: 0.1423865\n",
      "Probabilidade de derrota do Time A: 0.071285\n"
     ]
    }
   ],
   "source": [
    "import numpy as np\n",
    "\n",
    "# Definição das probabilidades de vitória, empate e derrota para cada time\n",
    "probabilidades_time_a = {'vitoria': 0.7857, 'empate': 0.1429, 'derrota': 0.0714}\n",
    "probabilidades_time_b = {'vitoria': 0.5714, 'empate': 0.2857, 'derrota': 0.1429}\n",
    "\n",
    "# Número de simulações\n",
    "num_simulacoes = 2000000\n",
    "\n",
    "# Função para simular um jogo entre os times e retornar o resultado\n",
    "def simular_jogo(probabilidades_time_a, probabilidades_time_b):\n",
    "    resultado_time_a = np.random.choice(['vitoria', 'empate', 'derrota'], p=[probabilidades_time_a['vitoria'], probabilidades_time_a['empate'], probabilidades_time_a['derrota']])\n",
    "    resultado_time_b = np.random.choice(['vitoria', 'empate', 'derrota'], p=[probabilidades_time_b['vitoria'], probabilidades_time_b['empate'], probabilidades_time_b['derrota']])\n",
    "    return resultado_time_a, resultado_time_b\n",
    "\n",
    "# Simulação de múltiplos jogos e contagem dos resultados\n",
    "vitorias_time_a = 0\n",
    "empates = 0\n",
    "derrotas_time_a = 0\n",
    "\n",
    "for _ in range(num_simulacoes):\n",
    "    resultado_time_a, resultado_time_b = simular_jogo(probabilidades_time_a, probabilidades_time_b)\n",
    "    if resultado_time_a == 'vitoria':\n",
    "        vitorias_time_a += 1\n",
    "    elif resultado_time_a == 'derrota':\n",
    "        derrotas_time_a += 1\n",
    "    else:\n",
    "        empates += 1\n",
    "\n",
    "# Estimativa das probabilidades de vitória, empate e derrota do Time A\n",
    "probabilidade_vitoria_time_a = vitorias_time_a / num_simulacoes\n",
    "probabilidade_empate = empates / num_simulacoes\n",
    "probabilidade_derrota_time_a = derrotas_time_a / num_simulacoes\n",
    "\n",
    "print(\"Probabilidade de vitória do Time A:\", probabilidade_vitoria_time_a)\n",
    "print(\"Probabilidade de empate:\", probabilidade_empate)\n",
    "print(\"Probabilidade de derrota do Time A:\", probabilidade_derrota_time_a)\n",
    "\n"
   ]
  },
  {
   "cell_type": "code",
   "execution_count": null,
   "id": "b6b056b3-98a9-48de-8e2c-a8cd1f3fa6d2",
   "metadata": {},
   "outputs": [],
   "source": []
  }
 ],
 "metadata": {
  "kernelspec": {
   "display_name": "Python 3 (ipykernel)",
   "language": "python",
   "name": "python3"
  },
  "language_info": {
   "codemirror_mode": {
    "name": "ipython",
    "version": 3
   },
   "file_extension": ".py",
   "mimetype": "text/x-python",
   "name": "python",
   "nbconvert_exporter": "python",
   "pygments_lexer": "ipython3",
   "version": "3.10.12"
  }
 },
 "nbformat": 4,
 "nbformat_minor": 5
}
